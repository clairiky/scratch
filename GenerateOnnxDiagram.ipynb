{
 "cells": [
  {
   "cell_type": "markdown",
   "metadata": {},
   "source": [
    "# Install dependencies"
   ]
  },
  {
   "cell_type": "code",
   "execution_count": 21,
   "metadata": {},
   "outputs": [
    {
     "name": "stdout",
     "output_type": "stream",
     "text": [
      "Collecting onnx\n",
      "\u001b[?25l  Downloading https://files.pythonhosted.org/packages/c4/f7/6bb9782e7020a21154182b5de2169ed9393cc065359515aa6fccecdad618/onnx-1.5.0-cp37-cp37m-manylinux1_x86_64.whl (7.0MB)\n",
      "\u001b[K     |████████████████████████████████| 7.1MB 417kB/s eta 0:00:01\n",
      "\u001b[?25hCollecting typing>=3.6.4 (from onnx)\n",
      "  Downloading https://files.pythonhosted.org/packages/28/b8/a1d6b7cf322f91305bcb5e7d8f6c3028954d1e3e716cddc1cdce2ac63247/typing-3.7.4-py3-none-any.whl\n",
      "Collecting typing-extensions>=3.6.2.1 (from onnx)\n",
      "  Downloading https://files.pythonhosted.org/packages/27/aa/bd1442cfb0224da1b671ab334d3b0a4302e4161ea916e28904ff9618d471/typing_extensions-3.7.4-py3-none-any.whl\n",
      "Requirement already satisfied: protobuf in /opt/conda/lib/python3.7/site-packages (from onnx) (3.7.1)\n",
      "Requirement already satisfied: numpy in /opt/conda/lib/python3.7/site-packages (from onnx) (1.15.4)\n",
      "Requirement already satisfied: six in /opt/conda/lib/python3.7/site-packages (from onnx) (1.12.0)\n",
      "Requirement already satisfied: setuptools in /opt/conda/lib/python3.7/site-packages (from protobuf->onnx) (41.0.1)\n",
      "Installing collected packages: typing, typing-extensions, onnx\n",
      "Successfully installed onnx-1.5.0 typing-3.7.4 typing-extensions-3.7.4\n"
     ]
    }
   ],
   "source": [
    "!pip install onnx"
   ]
  },
  {
   "cell_type": "markdown",
   "metadata": {},
   "source": [
    "Note the switch here from `pip` to `conda`.  For `onnx` and `pydot` it makes no difference, but `graphviz` is a binary package that `pip` doesn't carry (and probably can't handle)"
   ]
  },
  {
   "cell_type": "code",
   "execution_count": 8,
   "metadata": {},
   "outputs": [
    {
     "name": "stdout",
     "output_type": "stream",
     "text": [
      "Collecting package metadata: done\n",
      "Solving environment: | \n",
      "The environment is inconsistent, please check the package plan carefully\n",
      "The following packages are causing the inconsistency:\n",
      "\n",
      "  - conda-forge/linux-64::readline==7.0=hf8c457e_1001\n",
      "  - conda-forge/linux-64::xz==5.2.4=h14c3975_1001\n",
      "  - conda-forge/linux-64::openssl==1.1.1b=h14c3975_1\n",
      "  - conda-forge/linux-64::libedit==3.1.20170329=hf8c457e_1001\n",
      "  - conda-forge/linux-64::ncurses==6.1=hf484d3e_1002\n",
      "  - conda-forge/linux-64::idna==2.8=py37_1000\n",
      "  - conda-forge/linux-64::chardet==3.0.4=py37_1003\n",
      "  - conda-forge/linux-64::pycosat==0.6.3=py37h14c3975_1001\n",
      "  - conda-forge/linux-64::libffi==3.2.1=he1b5a44_1006\n",
      "  - conda-forge/linux-64::wheel==0.33.1=py37_0\n",
      "  - conda-forge/linux-64::yaml==0.1.7=h14c3975_1001\n",
      "  - conda-forge/linux-64::setuptools==41.0.1=py37_0\n",
      "  - conda-forge/linux-64::urllib3==1.24.2=py37_0\n",
      "  - conda-forge/linux-64::pysocks==1.6.8=py37_1002\n",
      "  - conda-forge/linux-64::pyopenssl==19.0.0=py37_0\n",
      "  - defaults/linux-64::libgcc-ng==8.2.0=hdf63c60_1\n",
      "  - conda-forge/linux-64::pycparser==2.19=py37_1\n",
      "  - conda-forge/linux-64::bzip2==1.0.6=h14c3975_1002\n",
      "  - conda-forge/linux-64::ruamel_yaml==0.15.71=py37h14c3975_1000\n",
      "  - conda-forge/linux-64::sqlite==3.26.0=h67949de_1001\n",
      "  - conda-forge/linux-64::requests==2.21.0=py37_1000\n",
      "  - conda-forge/linux-64::asn1crypto==0.24.0=py37_1003\n",
      "  - conda-forge/linux-64::certifi==2019.3.9=py37_0\n",
      "  - conda-forge/linux-64::python==3.7.3=h5b0a415_0\n",
      "  - conda-forge/linux-64::pip==19.1=py37_0\n",
      "  - conda-forge/linux-64::cffi==1.12.3=py37h8022711_0\n",
      "  - conda-forge/linux-64::tk==8.6.9=h84994c4_1001\n",
      "  - conda-forge/linux-64::conda==4.6.14=py37_0\n",
      "  - conda-forge/linux-64::cryptography==2.6.1=py37h72c5cf5_0\n",
      "  - conda-forge/linux-64::zlib==1.2.11=h14c3975_1004\n",
      "  - conda-forge/linux-64::six==1.12.0=py37_1000\n",
      "  - conda-forge/linux-64::libprotobuf==3.7.1=h8b12597_0\n",
      "  - conda-forge/linux-64::protobuf==3.7.1=py37he1b5a44_0\n",
      "  - conda-forge/linux-64::freetype==2.10.0=he983fc9_0\n",
      "  - conda-forge/linux-64::h5py==2.9.0=nompi_py37hf008753_1102\n",
      "  - conda-forge/linux-64::soupsieve==1.9.1=py37_0\n",
      "  - conda-forge/noarch::dask-core==1.1.5=py_0\n",
      "  - conda-forge/linux-64::libpng==1.6.37=hed695b0_0\n",
      "  - conda-forge/linux-64::dill==0.2.9=py37_0\n",
      "  - conda-forge/linux-64::scikit-learn==0.20.3=py37ha8026db_1\n",
      "  - conda-forge/linux-64::heapdict==1.0.0=py37_1000\n",
      "  - conda-forge/noarch::seaborn==0.9.0=py_1\n",
      "  - conda-forge/noarch::partd==0.3.9=py_0\n",
      "  - conda-forge/linux-64::sip==4.19.8=py37hf484d3e_1000\n",
      "  - conda-forge/linux-64::expat==2.2.5=hf484d3e_1002\n",
      "  - conda-forge/linux-64::icu==58.2=hf484d3e_1000\n",
      "  - conda-forge/noarch::click==7.0=py_0\n",
      "  - conda-forge/linux-64::libblas==3.8.0=9_openblas\n",
      "  - conda-forge/noarch::cycler==0.10.0=py_1\n",
      "  - conda-forge/linux-64::dbus==1.13.6=he372182_0\n",
      "  - conda-forge/noarch::mpmath==1.1.0=py_0\n",
      "  - conda-forge/linux-64::imageio==2.5.0=py37_0\n",
      "  - conda-forge/noarch::vincent==0.4.4=py_1\n",
      "  - conda-forge/noarch::zict==0.1.4=py_0\n",
      "  - conda-forge/linux-64::liblapacke==3.8.0=9_openblas\n",
      "  - conda-forge/linux-64::blas==2.9=openblas\n",
      "  - conda-forge/linux-64::numba==0.42.1=py37hf484d3e_0\n",
      "  - conda-forge/linux-64::pyyaml==5.1=py37h14c3975_0\n",
      "  - conda-forge/linux-64::glib==2.58.3=hf63aee3_1001\n",
      "  - conda-forge/noarch::pytz==2019.1=py_0\n",
      "  - conda-forge/linux-64::fontconfig==2.13.1=he4413a7_1000\n",
      "  - conda-forge/linux-64::gmpy2==2.0.8=py37hb20f59a_1002\n",
      "  - conda-forge/linux-64::sympy==1.3=py37_1000\n",
      "  - conda-forge/linux-64::libxml2==2.9.9=h13577e0_0\n",
      "  - conda-forge/linux-64::hdf5==1.10.4=nompi_h3c11f04_1106\n",
      "  - conda-forge/linux-64::gmp==6.1.2=hf484d3e_1000\n",
      "  - conda-forge/linux-64::beautifulsoup4==4.7.1=py37_1001\n",
      "  - conda-forge/linux-64::llvmlite==0.27.1=py37hdbcaa40_0\n",
      "  - conda-forge/noarch::dask==1.1.5=py_0\n",
      "  - conda-forge/linux-64::fastcache==1.1.0=py37h516909a_0\n",
      "  - conda-forge/linux-64::kiwisolver==1.1.0=py37hc9558a2_0\n",
      "  - conda-forge/linux-64::pillow==6.0.0=py37he7afcd5_0\n",
      "  - conda-forge/linux-64::libxcb==1.13=h14c3975_1002\n",
      "  - conda-forge/linux-64::statsmodels==0.9.0=py37h3010b51_1000\n",
      "  - conda-forge/linux-64::distributed==1.28.0=py37_0\n",
      "  - conda-forge/linux-64::xorg-libxdmcp==1.1.3=h516909a_0\n",
      "  - conda-forge/noarch::tblib==1.3.2=py_1\n",
      "  - conda-forge/linux-64::libtiff==4.0.10=h648cc4a_1001\n",
      "  - conda-forge/linux-64::scikit-image==0.14.2=py37hf484d3e_1\n",
      "  - conda-forge/linux-64::gettext==0.19.8.1=hc5be6a0_1002\n",
      "  - conda-forge/linux-64::mpfr==4.0.2=ha14ba45_0\n",
      "  - conda-forge/linux-64::matplotlib-base==3.0.3=py37h5f35d83_1\n",
      "  - conda-forge/linux-64::pthread-stubs==0.4=h14c3975_1001\n",
      "  - conda-forge/linux-64::openblas==0.3.6=h6e990d7_2\n",
      "  - conda-forge/linux-64::gst-plugins-base==1.14.4=hdf3bae2_1001\n",
      "  - conda-forge/linux-64::pcre==8.41=hf484d3e_1003\n",
      "  - conda-forge/linux-64::widgetsnbextension==3.4.2=py37_1000\n",
      "  - conda-forge/noarch::packaging==19.0=py_0\n",
      "  - conda-forge/linux-64::liblapack==3.8.0=9_openblas\n",
      "  - conda-forge/noarch::xlrd==1.2.0=py_0\n",
      "  - conda-forge/linux-64::gstreamer==1.14.4=h66beb1c_1001\n",
      "  - conda-forge/linux-64::matplotlib==3.0.3=py37_1\n",
      "  - conda-forge/noarch::olefile==0.46=py_0\n",
      "  - conda-forge/linux-64::jpeg==9c=h14c3975_1001\n",
      "  - conda-forge/linux-64::bokeh==1.0.4=py37_1000\n",
      "  - conda-forge/linux-64::psutil==5.6.2=py37h516909a_0\n",
      "  - conda-forge/noarch::locket==0.2.0=py_2\n",
      "  - conda-forge/noarch::patsy==0.5.1=py_0\n",
      "  - conda-forge/linux-64::msgpack-python==0.6.1=py37h6bb024c_0\n",
      "  - conda-forge/linux-64::cython==0.29.7=py37he1b5a44_0\n",
      "  - conda-forge/linux-64::pywavelets==1.0.3=py37hd352d35_1\n",
      "  - conda-forge/linux-64::cytoolz==0.9.0.1=py37h14c3975_1001\n",
      "  - conda-forge/linux-64::scipy==1.2.1=py37h09a28d5_1\n",
      "  - conda-forge/linux-64::xorg-libxau==1.0.9=h14c3975_0\n",
      "  - conda-forge/noarch::toolz==0.9.0=py_1\n",
      "  - conda-forge/linux-64::mpc==1.1.0=hb20f59a_1006\n",
      "  - conda-forge/noarch::pyparsing==2.4.0=py_0\n",
      "  - conda-forge/noarch::sortedcontainers==2.1.0=py_0\n",
      "  - conda-forge/linux-64::numpy==1.15.4=py37h8b7e671_1002\n",
      "  - conda-forge/linux-64::libcblas==3.8.0=9_openblas\n",
      "  - conda-forge/linux-64::libiconv==1.15=h516909a_1005\n",
      "  - conda-forge/linux-64::numexpr==2.6.9=py37h637b7d7_1000\n",
      "  - conda-forge/noarch::networkx==2.3=py_0\n",
      "  - conda-forge/linux-64::pandas==0.24.2=py37hf484d3e_0\n",
      "  - conda-forge/noarch::ipywidgets==7.4.2=py_0\n",
      "  - conda-forge/linux-64::libuuid==2.32.1=h14c3975_1000\n",
      "  - conda-forge/noarch::cloudpickle==0.8.1=py_0\n",
      "  - conda-forge/noarch::decorator==4.4.0=py_0\n",
      "  - conda-forge/linux-64::libssh2==1.8.2=h22169c7_2\n",
      "  - conda-forge/noarch::backcall==0.1.0=py_0\n",
      "  - conda-forge/linux-64::jupyterhub==1.0.0=py37_0\n",
      "  - conda-forge/noarch::blinker==1.4=py_1\n",
      "  - conda-forge/linux-64::krb5==1.16.3=h05b26f9_1001\n",
      "  - conda-forge/linux-64::pexpect==4.7.0=py37_0\n",
      "  - conda-forge/linux-64::mistune==0.8.4=py37h14c3975_1000\n",
      "  - conda-forge/noarch::ptyprocess==0.6.0=py_1001\n",
      "  - conda-forge/linux-64::libcurl==7.64.1=hda55be3_0\n",
      "  - conda-forge/linux-64::libsodium==1.0.16=h14c3975_1001\n",
      "  - conda-forge/noarch::pandocfilters==1.4.2=py_1\n",
      "  - conda-forge/linux-64::markupsafe==1.1.1=py37h14c3975_0\n",
      "  - conda-forge/linux-64::ipython==7.5.0=py37h24bf2e0_0\n",
      "  - conda-forge/noarch::python-dateutil==2.8.0=py_0\n",
      "  - conda-forge/noarch::pygments==2.4.0=py_0\n",
      "  - conda-forge/linux-64::zeromq==4.3.1=hf484d3e_1000\n",
      "  - conda-forge/linux-64::pyrsistent==0.15.2=py37h516909a_0\n",
      "  - conda-forge/noarch::jinja2==2.10.1=py_0\n",
      "  - conda-forge/noarch::python-editor==1.0.4=py_0\n",
      "  - conda-forge/linux-64::tornado==6.0.2=py37h516909a_0\n",
      "  - conda-forge/noarch::defusedxml==0.5.0=py_1\n",
      "  - conda-forge/noarch::alembic==1.0.8=py_0\n",
      "  - conda-forge/noarch::mako==1.0.7=py_1\n",
      "  - conda-forge/linux-64::nodejs==11.14.0=he1b5a44_1\n",
      "  - conda-forge/noarch::certipy==0.1.3=py_0\n",
      "  - conda-forge/linux-64::traitlets==4.3.2=py37_1000\n",
      "  - conda-forge/noarch::jupyterlab_server==0.2.0=py_0\n",
      "  - conda-forge/linux-64::ipykernel==5.1.0=py37h24bf2e0_1002\n",
      "  - conda-forge/linux-64::jupyterlab==0.35.5=py37_0\n",
      "  - conda-forge/noarch::attrs==19.1.0=py_0\n",
      "  - conda-forge/noarch::oauthlib==3.0.1=py_0\n",
      "  - conda-forge/noarch::nbconvert==5.5.0=py_0\n",
      "  - conda-forge/noarch::pyjwt==1.7.1=py_0\n",
      "  - conda-forge/noarch::jupyter_client==5.2.4=py_3\n",
      "  - conda-forge/linux-64::pickleshare==0.7.5=py37_1000\n",
      "  - conda-forge/noarch::parso==0.4.0=py_0\n",
      "  - conda-forge/noarch::pamela==1.0.0=py_0\n",
      "  - conda-forge/noarch::prompt_toolkit==2.0.9=py_0\n",
      "  - conda-forge/noarch::jupyter_core==4.4.0=py_0\n",
      "  - conda-forge/linux-64::terminado==0.8.2=py37_0\n",
      "  - conda-forge/linux-64::pycurl==7.43.0.2=py37h16ce93b_0\n",
      "  - conda-forge/noarch::testpath==0.4.2=py_1001\n",
      "  - conda-forge/linux-64::sqlalchemy==1.3.3=py37h516909a_0\n",
      "  - conda-forge/noarch::wcwidth==0.1.7=py_1\n",
      "  - conda-forge/noarch::send2trash==1.5.0=py_0\n",
      "  - conda-forge/linux-64::jsonschema==3.0.1=py37_0\n",
      "  - conda-forge/linux-64::pyzmq==18.0.1=py37hc4ba49a_1\n",
      "  - conda-forge/linux-64::configurable-http-proxy==1.3.0=0\n",
      "  - conda-forge/linux-64::notebook==5.7.8=py37_0\n",
      "  - conda-forge/noarch::bleach==3.1.0=py_0\n",
      "  - conda-forge/noarch::webencodings==0.5.1=py_1\n",
      "  - conda-forge/noarch::async_generator==1.10=py_0\n",
      "  - conda-forge/noarch::prometheus_client==0.6.0=py_0\n",
      "  - conda-forge/linux-64::jedi==0.13.3=py37_0\n",
      "  - conda-forge/noarch::ipython_genutils==0.2.0=py_1\n",
      "  - conda-forge/noarch::nbformat==4.4.0=py_1\n",
      "  - conda-forge/linux-64::entrypoints==0.3=py37_1000\n",
      "  - conda-forge/linux-64::tini==0.18.0=h14c3975_1001\n"
     ]
    },
    {
     "name": "stdout",
     "output_type": "stream",
     "text": [
      "done\n",
      "\n",
      "\n",
      "==> WARNING: A newer version of conda exists. <==\n",
      "  current version: 4.6.14\n",
      "  latest version: 4.7.5\n",
      "\n",
      "Please update conda by running\n",
      "\n",
      "    $ conda update -n base conda\n",
      "\n",
      "\n",
      "\n",
      "## Package Plan ##\n",
      "\n",
      "  environment location: /opt/conda\n",
      "\n",
      "  added / updated specs:\n",
      "    - graphviz\n",
      "    - pydot\n",
      "\n",
      "\n",
      "The following packages will be downloaded:\n",
      "\n",
      "    package                    |            build\n",
      "    ---------------------------|-----------------\n",
      "    _libgcc_mutex-0.1          |             main           3 KB  defaults\n",
      "    ca-certificates-2019.6.16  |       hecc5488_0         145 KB  conda-forge\n",
      "    cairo-1.16.0               |    h18b612c_1001         1.5 MB  conda-forge\n",
      "    certifi-2019.6.16          |           py37_0         148 KB  conda-forge\n",
      "    expat-2.2.5                |    he1b5a44_1003         191 KB  conda-forge\n",
      "    glib-2.58.3                |    h6f030ca_1001         3.3 MB  conda-forge\n",
      "    graphite2-1.3.13           |    hf484d3e_1000         109 KB  conda-forge\n",
      "    graphviz-2.40.1            |       h0dab3d1_0         6.8 MB  conda-forge\n",
      "    harfbuzz-2.4.0             |       h37c48d4_1         1.5 MB  conda-forge\n",
      "    libgcc-ng-9.1.0            |       hdf63c60_0         8.1 MB  defaults\n",
      "    libtiff-4.0.10             |    h57b8799_1003         587 KB  conda-forge\n",
      "    libtool-2.4.6              |    h14c3975_1002         512 KB  conda-forge\n",
      "    libxml2-2.9.9              |       h13577e0_1         1.3 MB  conda-forge\n",
      "    lz4-c-1.8.3                |    he1b5a44_1001         187 KB  conda-forge\n",
      "    pango-1.40.14              |    he7ab937_1005         528 KB  conda-forge\n",
      "    pip-19.1.1                 |           py37_0         1.8 MB  conda-forge\n",
      "    pixman-0.38.0              |    h516909a_1003         594 KB  conda-forge\n",
      "    pydot-1.4.1                |        py37_1000          40 KB  conda-forge\n",
      "    python-3.7.3               |       h33d41f4_1        36.0 MB  conda-forge\n",
      "    readline-8.0               |       hf8c457e_0         441 KB  conda-forge\n",
      "    sqlite-3.28.0              |       hcee41ef_1         1.9 MB  conda-forge\n",
      "    tk-8.6.9                   |    hed695b0_1002         3.2 MB  conda-forge\n",
      "    wheel-0.33.4               |           py37_0          34 KB  conda-forge\n",
      "    xorg-kbproto-1.0.7         |    h14c3975_1002          26 KB  conda-forge\n",
      "    xorg-libice-1.0.9          |    h516909a_1004          58 KB  conda-forge\n",
      "    xorg-libsm-1.2.3           |    h84519dc_1000          25 KB  conda-forge\n",
      "    xorg-libx11-1.6.7          |    h14c3975_1000         940 KB  conda-forge\n",
      "    xorg-libxext-1.3.4         |       h516909a_0          51 KB  conda-forge\n",
      "    xorg-libxpm-3.5.12         |    h14c3975_1002          64 KB  conda-forge\n",
      "    xorg-libxrender-0.9.10     |    h516909a_1002          31 KB  conda-forge\n",
      "    xorg-libxt-1.1.5           |    h516909a_1003         367 KB  conda-forge\n",
      "    xorg-renderproto-0.11.1    |    h14c3975_1002           8 KB  conda-forge\n",
      "    xorg-xextproto-7.3.0       |    h14c3975_1002          27 KB  conda-forge\n",
      "    xorg-xproto-7.0.31         |    h14c3975_1007          72 KB  conda-forge\n",
      "    zstd-1.4.0                 |       h3b9ef0a_0         928 KB  conda-forge\n",
      "    ------------------------------------------------------------\n",
      "                                           Total:        71.3 MB\n",
      "\n",
      "The following NEW packages will be INSTALLED:\n",
      "\n",
      "  _libgcc_mutex      pkgs/main/linux-64::_libgcc_mutex-0.1-main\n",
      "  cairo              conda-forge/linux-64::cairo-1.16.0-h18b612c_1001\n",
      "  graphite2          conda-forge/linux-64::graphite2-1.3.13-hf484d3e_1000\n",
      "  graphviz           conda-forge/linux-64::graphviz-2.40.1-h0dab3d1_0\n",
      "  harfbuzz           conda-forge/linux-64::harfbuzz-2.4.0-h37c48d4_1\n",
      "  libtool            conda-forge/linux-64::libtool-2.4.6-h14c3975_1002\n",
      "  lz4-c              conda-forge/linux-64::lz4-c-1.8.3-he1b5a44_1001\n",
      "  pango              conda-forge/linux-64::pango-1.40.14-he7ab937_1005\n",
      "  pixman             conda-forge/linux-64::pixman-0.38.0-h516909a_1003\n",
      "  pydot              conda-forge/linux-64::pydot-1.4.1-py37_1000\n",
      "  xorg-kbproto       conda-forge/linux-64::xorg-kbproto-1.0.7-h14c3975_1002\n",
      "  xorg-libice        conda-forge/linux-64::xorg-libice-1.0.9-h516909a_1004\n",
      "  xorg-libsm         conda-forge/linux-64::xorg-libsm-1.2.3-h84519dc_1000\n",
      "  xorg-libx11        conda-forge/linux-64::xorg-libx11-1.6.7-h14c3975_1000\n",
      "  xorg-libxext       conda-forge/linux-64::xorg-libxext-1.3.4-h516909a_0\n",
      "  xorg-libxpm        conda-forge/linux-64::xorg-libxpm-3.5.12-h14c3975_1002\n",
      "  xorg-libxrender    conda-forge/linux-64::xorg-libxrender-0.9.10-h516909a_1002\n",
      "  xorg-libxt         conda-forge/linux-64::xorg-libxt-1.1.5-h516909a_1003\n",
      "  xorg-renderproto   conda-forge/linux-64::xorg-renderproto-0.11.1-h14c3975_1002\n",
      "  xorg-xextproto     conda-forge/linux-64::xorg-xextproto-7.3.0-h14c3975_1002\n",
      "  xorg-xproto        conda-forge/linux-64::xorg-xproto-7.0.31-h14c3975_1007\n",
      "  zstd               conda-forge/linux-64::zstd-1.4.0-h3b9ef0a_0\n",
      "\n",
      "The following packages will be UPDATED:\n",
      "\n",
      "  ca-certificates                       2019.3.9-hecc5488_0 --> 2019.6.16-hecc5488_0\n",
      "  certifi                                   2019.3.9-py37_0 --> 2019.6.16-py37_0\n",
      "  expat                                 2.2.5-hf484d3e_1002 --> 2.2.5-he1b5a44_1003\n",
      "  libgcc-ng                                8.2.0-hdf63c60_1 --> 9.1.0-hdf63c60_0\n",
      "  libtiff                              4.0.10-h648cc4a_1001 --> 4.0.10-h57b8799_1003\n",
      "  libxml2                                  2.9.9-h13577e0_0 --> 2.9.9-h13577e0_1\n",
      "  pip                                           19.1-py37_0 --> 19.1.1-py37_0\n",
      "  python                                   3.7.3-h5b0a415_0 --> 3.7.3-h33d41f4_1\n",
      "  readline                                7.0-hf8c457e_1001 --> 8.0-hf8c457e_0\n",
      "  sqlite                               3.26.0-h67949de_1001 --> 3.28.0-hcee41ef_1\n",
      "  tk                                    8.6.9-h84994c4_1001 --> 8.6.9-hed695b0_1002\n",
      "  wheel                                       0.33.1-py37_0 --> 0.33.4-py37_0\n",
      "\n",
      "The following packages will be DOWNGRADED:\n",
      "\n",
      "  glib                                 2.58.3-hf63aee3_1001 --> 2.58.3-h6f030ca_1001\n",
      "\n",
      "\n",
      "\n",
      "Downloading and Extracting Packages\n",
      "sqlite-3.28.0        | 1.9 MB    | ##################################### | 100% \n",
      "xorg-libsm-1.2.3     | 25 KB     | ##################################### | 100% \n",
      "xorg-xextproto-7.3.0 | 27 KB     | ##################################### | 100% \n",
      "xorg-libxrender-0.9. | 31 KB     | ##################################### | 100% \n",
      "libtiff-4.0.10       | 587 KB    | ##################################### | 100% \n",
      "graphite2-1.3.13     | 109 KB    | ##################################### | 100% \n",
      "python-3.7.3         | 36.0 MB   | ##################################### | 100% \n",
      "xorg-libxpm-3.5.12   | 64 KB     | ##################################### | 100% \n",
      "expat-2.2.5          | 191 KB    | ##################################### | 100% \n",
      "pixman-0.38.0        | 594 KB    | ##################################### | 100% \n",
      "libtool-2.4.6        | 512 KB    | ##################################### | 100% \n",
      "graphviz-2.40.1      | 6.8 MB    | ##################################### | 100% \n",
      "xorg-kbproto-1.0.7   | 26 KB     | ##################################### | 100% \n",
      "_libgcc_mutex-0.1    | 3 KB      | ##################################### | 100% \n",
      "libxml2-2.9.9        | 1.3 MB    | ##################################### | 100% \n",
      "wheel-0.33.4         | 34 KB     | ##################################### | 100% \n",
      "cairo-1.16.0         | 1.5 MB    | ##################################### | 100% \n",
      "readline-8.0         | 441 KB    | ##################################### | 100% \n",
      "pango-1.40.14        | 528 KB    | ##################################### | 100% \n",
      "pip-19.1.1           | 1.8 MB    | ##################################### | 100% \n",
      "xorg-renderproto-0.1 | 8 KB      | ##################################### | 100% \n",
      "xorg-libx11-1.6.7    | 940 KB    | ##################################### | 100% \n",
      "pydot-1.4.1          | 40 KB     | ##################################### | 100% \n",
      "harfbuzz-2.4.0       | 1.5 MB    | ##################################### | 100% \n",
      "lz4-c-1.8.3          | 187 KB    | ##################################### | 100% \n",
      "ca-certificates-2019 | 145 KB    | ##################################### | 100% \n",
      "libgcc-ng-9.1.0      | 8.1 MB    | ##################################### | 100% \n",
      "xorg-libxt-1.1.5     | 367 KB    | ##################################### | 100% \n",
      "xorg-xproto-7.0.31   | 72 KB     | ##################################### | 100% \n",
      "glib-2.58.3          | 3.3 MB    | ##################################### | 100% \n",
      "xorg-libice-1.0.9    | 58 KB     | ##################################### | 100% \n",
      "zstd-1.4.0           | 928 KB    | ##################################### | 100% \n",
      "xorg-libxext-1.3.4   | 51 KB     | ##################################### | 100% \n",
      "certifi-2019.6.16    | 148 KB    | ##################################### | 100% \n",
      "tk-8.6.9             | 3.2 MB    | ##################################### | 100% \n",
      "Preparing transaction: done\n",
      "Verifying transaction: done\n",
      "Executing transaction: done\n"
     ]
    }
   ],
   "source": [
    "!conda install -y pydot graphviz"
   ]
  },
  {
   "cell_type": "code",
   "execution_count": 22,
   "metadata": {},
   "outputs": [],
   "source": [
    "import onnx"
   ]
  },
  {
   "cell_type": "markdown",
   "metadata": {},
   "source": [
    "Confirm that the `net_drawer.py` script is part of the `onnx` module distribution:"
   ]
  },
  {
   "cell_type": "code",
   "execution_count": 57,
   "metadata": {},
   "outputs": [
    {
     "data": {
      "text/plain": [
       "['/opt/conda/lib/python3.7/site-packages/onnx']"
      ]
     },
     "execution_count": 57,
     "metadata": {},
     "output_type": "execute_result"
    }
   ],
   "source": [
    "sys.modules['onnx'].__path__"
   ]
  },
  {
   "cell_type": "code",
   "execution_count": 58,
   "metadata": {},
   "outputs": [
    {
     "name": "stdout",
     "output_type": "stream",
     "text": [
      "/opt/conda/lib/python3.7/site-packages/onnx/tools/net_drawer.py\r\n"
     ]
    }
   ],
   "source": [
    "!find /opt/conda/lib/python3.7/site-packages/onnx -iname net_drawer.py"
   ]
  },
  {
   "cell_type": "markdown",
   "metadata": {},
   "source": [
    "# Generate the diagram in graphviz format\n",
    "\n",
    "One parameter of note here beyond the ones to specify the inputs and output is `rankdir`, that specifies the direction (top-bottom, left-right) that the diagram is to be generated "
   ]
  },
  {
   "cell_type": "code",
   "execution_count": 19,
   "metadata": {},
   "outputs": [],
   "source": [
    "!python /opt/conda/lib/python3.7/site-packages/onnx/tools/net_drawer.py --input /data/mnist/model.onnx --output /data/mnist.dot --rankdir TB"
   ]
  },
  {
   "cell_type": "markdown",
   "metadata": {},
   "source": [
    "The `dot` command is part of the `graphviz` distribution"
   ]
  },
  {
   "cell_type": "code",
   "execution_count": 20,
   "metadata": {},
   "outputs": [
    {
     "name": "stdout",
     "output_type": "stream",
     "text": [
      "/opt/conda/bin/dot\r\n"
     ]
    }
   ],
   "source": [
    "!which dot"
   ]
  },
  {
   "cell_type": "markdown",
   "metadata": {},
   "source": [
    "Create SVG file\n"
   ]
  },
  {
   "cell_type": "code",
   "execution_count": 1,
   "metadata": {},
   "outputs": [],
   "source": [
    "!dot -Tsvg /data/mnist.dot -o /data/mnist.svg"
   ]
  },
  {
   "cell_type": "code",
   "execution_count": null,
   "metadata": {},
   "outputs": [],
   "source": []
  }
 ],
 "metadata": {
  "kernelspec": {
   "display_name": "Python 3",
   "language": "python",
   "name": "python3"
  },
  "language_info": {
   "codemirror_mode": {
    "name": "ipython",
    "version": 3
   },
   "file_extension": ".py",
   "mimetype": "text/x-python",
   "name": "python",
   "nbconvert_exporter": "python",
   "pygments_lexer": "ipython3",
   "version": "3.7.3"
  }
 },
 "nbformat": 4,
 "nbformat_minor": 2
}
